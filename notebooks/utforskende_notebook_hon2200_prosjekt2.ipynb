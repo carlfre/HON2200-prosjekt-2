{
 "cells": [
  {
   "cell_type": "markdown",
   "metadata": {},
   "source": [
    "# Nevral stiloverføring"
   ]
  },
  {
   "cell_type": "markdown",
   "metadata": {},
   "source": [
    "## Demo"
   ]
  },
  {
   "cell_type": "markdown",
   "metadata": {},
   "source": [
    "Install pystiche:"
   ]
  },
  {
   "cell_type": "code",
   "execution_count": null,
   "metadata": {},
   "outputs": [],
   "source": [
    "!pip install pystiche"
   ]
  },
  {
   "cell_type": "markdown",
   "metadata": {},
   "source": [
    "Følgende demo er hentet fra: https://docs.pystiche.org/en/latest/galleries/examples/beginner/example_nst_with_pystiche.html#sphx-glr-download-galleries-examples-beginner-example-nst-with-pystiche-py"
   ]
  },
  {
   "cell_type": "code",
   "execution_count": 1,
   "metadata": {},
   "outputs": [
    {
     "name": "stdout",
     "output_type": "stream",
     "text": [
      "Device: cpu\n"
     ]
    }
   ],
   "source": [
    "import pystiche\n",
    "\n",
    "from pystiche import demo, enc, loss, optim\n",
    "from pystiche.image import show_image, read_image, write_image\n",
    "from pystiche.misc import get_device, get_input_image\n",
    "\n",
    "device = get_device()\n",
    "print(f\"Device: {device}\")"
   ]
  },
  {
   "cell_type": "markdown",
   "metadata": {
    "execution": {
     "iopub.execute_input": "2022-05-04T02:20:12.214053Z",
     "iopub.status.busy": "2022-05-04T02:20:12.213463Z",
     "iopub.status.idle": "2022-05-04T02:20:12.218851Z",
     "shell.execute_reply": "2022-05-04T02:20:12.217878Z",
     "shell.execute_reply.started": "2022-05-04T02:20:12.214011Z"
    }
   },
   "source": [
    "Setter opp multi-layer encoder"
   ]
  },
  {
   "cell_type": "code",
   "execution_count": 2,
   "metadata": {},
   "outputs": [],
   "source": [
    "multi_layer_encoder = enc.vgg19_multi_layer_encoder()"
   ]
  },
  {
   "cell_type": "markdown",
   "metadata": {},
   "source": [
    "Laster ned demo-bilder."
   ]
  },
  {
   "cell_type": "code",
   "execution_count": 3,
   "metadata": {},
   "outputs": [],
   "source": [
    "images = demo.images()\n",
    "images.download()"
   ]
  },
  {
   "cell_type": "markdown",
   "metadata": {},
   "source": [
    "Lager en funksjon NST(stilbilde, innholdsbilde).perceptual_loss = loss.PerceptualLoss(content_loss, style_loss).to(device)"
   ]
  },
  {
   "cell_type": "code",
   "execution_count": 4,
   "metadata": {},
   "outputs": [],
   "source": [
    "def NST(content_image, \n",
    "        style_image,\n",
    "        random_input = False,\n",
    "        steps = 500,\n",
    "        content_weight = 1e0, \n",
    "        style_weight = 1e3,\n",
    "        content_layer = \"relu4_2\",\n",
    "        style_layers = (\"relu1_1\", \"relu2_1\", \"relu3_1\", \"relu4_1\", \"relu5_1\")):\n",
    "    \n",
    "    # Create content loss function\n",
    "    content_encoder = multi_layer_encoder.extract_encoder(content_layer)\n",
    "    \n",
    "    content_loss = loss.FeatureReconstructionLoss(content_encoder, \n",
    "                                                  score_weight=content_weight)\n",
    "    \n",
    "    # Create style loss function\n",
    "    def get_style_op(encoder, layer_weight):\n",
    "        return loss.GramLoss(encoder, score_weight=layer_weight)\n",
    "\n",
    "    style_loss = loss.MultiLayerEncodingLoss(\n",
    "         multi_layer_encoder, style_layers, get_style_op, score_weight=style_weight)\n",
    "    \n",
    "    # Create combined loss function\n",
    "    perceptual_loss = loss.PerceptualLoss(content_loss, style_loss).to(device)\n",
    "    \n",
    "    \n",
    "    perceptual_loss.set_content_image(content_image)\n",
    "    perceptual_loss.set_style_image(style_image)\n",
    "    \n",
    "    # Set input image\n",
    "    if random_input:\n",
    "        starting_point = \"random\"\n",
    "    else:\n",
    "        starting_point = \"content\"\n",
    "    \n",
    "    input_image = get_input_image(starting_point, content_image=content_image)\n",
    "    \n",
    "    # Generate NST output image\n",
    "    output_image = optim.image_optimization(input_image, perceptual_loss, num_steps=steps)\n",
    "    return output_image\n",
    "\n",
    "def demo_NST(content_name, style_name):\n",
    "    size = 500\n",
    "    content_image = images[content_name].read(size=size, device=device)\n",
    "    style_image = images[style_name].read(size=size, device=device)\n",
    "    return NST(content_image, style_image)"
   ]
  },
  {
   "cell_type": "markdown",
   "metadata": {},
   "source": [
    "## Testing av NST"
   ]
  },
  {
   "cell_type": "markdown",
   "metadata": {},
   "source": [
    "Først skriver vi ut alle demobildene vi bruker:"
   ]
  },
  {
   "cell_type": "code",
   "execution_count": null,
   "metadata": {},
   "outputs": [],
   "source": [
    "size = 500\n",
    "img_names = [\"bird1\", \"paint\", \"bird2\", \"mosaic\", \"castle\", \"church\", \"cliff\"]\n",
    "for name in img_names:\n",
    "    show_image(images[name].read(size=size, device=device))"
   ]
  },
  {
   "cell_type": "markdown",
   "metadata": {
    "execution": {
     "iopub.execute_input": "2022-05-04T04:23:27.436695Z",
     "iopub.status.busy": "2022-05-04T04:23:27.436098Z",
     "iopub.status.idle": "2022-05-04T04:23:27.440265Z",
     "shell.execute_reply": "2022-05-04T04:23:27.439536Z",
     "shell.execute_reply.started": "2022-05-04T04:23:27.436657Z"
    }
   },
   "source": [
    "### Bilder med standardkonfigurasjon"
   ]
  },
  {
   "cell_type": "markdown",
   "metadata": {},
   "source": [
    "Vi prøver forskjellige bilder med standardkonfigurasjonen:"
   ]
  },
  {
   "cell_type": "code",
   "execution_count": null,
   "metadata": {
    "execution": {
     "iopub.execute_input": "2022-05-05T05:17:39.030922Z",
     "iopub.status.busy": "2022-05-05T05:17:39.030663Z",
     "iopub.status.idle": "2022-05-05T05:18:37.646826Z",
     "shell.execute_reply": "2022-05-05T05:18:37.646171Z",
     "shell.execute_reply.started": "2022-05-05T05:17:39.030894Z"
    }
   },
   "outputs": [],
   "source": [
    "show_image(demo_NST(\"bird1\", \"castle\"))"
   ]
  },
  {
   "cell_type": "code",
   "execution_count": null,
   "metadata": {
    "execution": {
     "iopub.execute_input": "2022-05-05T05:18:47.331174Z",
     "iopub.status.busy": "2022-05-05T05:18:47.330914Z",
     "iopub.status.idle": "2022-05-05T05:19:36.70773Z",
     "shell.execute_reply": "2022-05-05T05:19:36.707101Z",
     "shell.execute_reply.started": "2022-05-05T05:18:47.331144Z"
    }
   },
   "outputs": [],
   "source": [
    "show_image(demo_NST(\"bird2\", \"paint\"))"
   ]
  },
  {
   "cell_type": "code",
   "execution_count": null,
   "metadata": {},
   "outputs": [],
   "source": [
    "show_image(demo_NST(\"cliff\", \"mosaic\"))"
   ]
  },
  {
   "cell_type": "code",
   "execution_count": null,
   "metadata": {},
   "outputs": [],
   "source": [
    "show_image(demo_NST(\"castle\", \"church\"))"
   ]
  },
  {
   "cell_type": "markdown",
   "metadata": {},
   "source": [
    "### Bilder i forskjellige størrelser"
   ]
  },
  {
   "cell_type": "markdown",
   "metadata": {},
   "source": [
    "Vi bruker standardkonfigurasjonen, bortsett fra at vi bruker 4 forskjellige bildestørrelser: 100, 300, 500, 800. Det vil si at antall steg er konstant for alle 4 bildene. Vi bruker bird1 som innhold og paint som stilbilde."
   ]
  },
  {
   "cell_type": "code",
   "execution_count": null,
   "metadata": {},
   "outputs": [],
   "source": [
    "sizes = (100, 300, 500, 800)\n",
    "for size in sizes:\n",
    "    content_image = images[\"bird1\"].read(size=size, device=device)\n",
    "    style_image = images[\"paint\"].read(size=size, device=device)\n",
    "    show_image(NST(content_image, style_image))\n",
    "    "
   ]
  },
  {
   "cell_type": "markdown",
   "metadata": {},
   "source": [
    "Bildene blir mer detaljerte med høyere oppløsning, som gir mening."
   ]
  },
  {
   "cell_type": "markdown",
   "metadata": {},
   "source": [
    "### Bilder med forskjellig antall steg"
   ]
  },
  {
   "cell_type": "markdown",
   "metadata": {},
   "source": [
    "Vi bruker NST med samme bilder og standardoppsettet, bortsett fra at vi endrer antall steg: vi prøver 31, 62, 125, 250, 500, 1000 steg."
   ]
  },
  {
   "cell_type": "code",
   "execution_count": null,
   "metadata": {},
   "outputs": [],
   "source": [
    "size = 500\n",
    "content_image = images[\"bird1\"].read(size=size, device=device)\n",
    "style_image = images[\"paint\"].read(size=size, device=device)\n",
    "\n",
    "step_list = (31, 62, 125, 250, 500, 1000)\n",
    "\n",
    "for steps in step_list:\n",
    "    show_image(NST(content_image, style_image, steps=steps))"
   ]
  },
  {
   "cell_type": "markdown",
   "metadata": {},
   "source": [
    "Vi ser at bildet gradvis får en stil som likner bildet paint, desto flere steg algoritmen tar. I starten ligner imidlertid bildet veldig på innholdsbildet. Dette gir mening, da vi starter med innholdsbilde, og gradvis endrer bildet slik at det får stil liknende stilbildet. Vi merker oss at det både tar lengre tid, og at loss-funksjonen får til å få lavere verdi, når vi øker antall steg."
   ]
  },
  {
   "cell_type": "markdown",
   "metadata": {},
   "source": [
    "### Forskjellige vektinger av innhold og stil"
   ]
  },
  {
   "cell_type": "markdown",
   "metadata": {},
   "source": [
    "Vi bruker de samme bildene, men velger denne gangen å variere vektingen mellom innhold og stil. Vi holder innholdsvektingen konstant på 1, men prøver med stilvekting på 1e0, 1e1, 1e2, 1e3:"
   ]
  },
  {
   "cell_type": "code",
   "execution_count": null,
   "metadata": {},
   "outputs": [],
   "source": [
    "size = 500\n",
    "content_image = images[\"bird1\"].read(size=size, device=device)\n",
    "style_image = images[\"paint\"].read(size=size, device=device)\n",
    "\n",
    "style_weights = (1e0, 1e2, 1e4, 1e6)\n",
    "\n",
    "for style_weight in style_weights:\n",
    "    show_image(NST(content_image, style_image, style_weight=style_weight))"
   ]
  },
  {
   "cell_type": "markdown",
   "metadata": {},
   "source": [
    "## Hva hvis vi fjerner innholdsbildet?"
   ]
  },
  {
   "cell_type": "markdown",
   "metadata": {},
   "source": [
    "Nå ønsker vi å se på effekten av å sette innholdsvektingen til null og starte med tilfeldig støy som input."
   ]
  },
  {
   "cell_type": "code",
   "execution_count": null,
   "metadata": {},
   "outputs": [],
   "source": [
    "size = 500\n",
    "stylenames = [\"paint\", \"church\", \"mosaic\", \"bird1\"]\n",
    "for stylename in stylenames:\n",
    "    content_image = images[\"bird1\"].read(size=size, device=device)\n",
    "    style_image = images[stylename].read(size=size, device=device)\n",
    "    show_image(NST(content_image, style_image, content_weight=0, random_input = True))"
   ]
  },
  {
   "cell_type": "markdown",
   "metadata": {},
   "source": [
    "We repeat the same with fewer style layers:"
   ]
  },
  {
   "cell_type": "code",
   "execution_count": null,
   "metadata": {},
   "outputs": [],
   "source": [
    "style_layers = (\"relu1_1\", \"relu2_1\")\n",
    "for stylename in stylenames:\n",
    "    content_image = images[\"bird1\"].read(size=size, device=device)\n",
    "    style_image = images[stylename].read(size=size, device=device)\n",
    "    show_image(NST(content_image, style_image, content_weight=0, random_input = True, \n",
    "                   style_layers=style_layers))"
   ]
  },
  {
   "cell_type": "code",
   "execution_count": null,
   "metadata": {},
   "outputs": [],
   "source": [
    "style_layers = (\"relu1_1\",)\n",
    "for stylename in stylenames:\n",
    "    content_image = images[\"bird1\"].read(size=size, device=device)\n",
    "    style_image = images[stylename].read(size=size, device=device)\n",
    "    show_image(NST(content_image, style_image, content_weight=0, random_input = True, \n",
    "                   style_layers=style_layers))"
   ]
  },
  {
   "cell_type": "markdown",
   "metadata": {},
   "source": [
    "Vi ser færre detaljer i bildene som produseres med færre lag. \n",
    "\n",
    "TODO: Forklaring. Ideen er noe som at flere lag til sammen kan skape mer avanserte, distinkte mønstre, flere filtre oppå hverandre kan inneholde mye informasjon. Vi ser bl.a. noe som ser ut som nebb og øyne fra bird1 på bildet med 4 lag, mens det er mye vanskeligere å gjenkjenne deler av fuglen på bildet med 1 eller 2 stillag."
   ]
  },
  {
   "cell_type": "markdown",
   "metadata": {},
   "source": [
    "## Nettbutikken Frida feirer jul"
   ]
  },
  {
   "cell_type": "markdown",
   "metadata": {},
   "source": [
    "Nettbutikken Frida som selger dagligvarer feirer jul, og ønsker å tilpasse bildene av varene deres til julesesongen. Derfor ønsker de å ta i bruk nevral stiloverføring for å effektivt lage bilder med julestil."
   ]
  },
  {
   "cell_type": "markdown",
   "metadata": {},
   "source": [
    "### Bilder med julestil"
   ]
  },
  {
   "cell_type": "markdown",
   "metadata": {},
   "source": [
    "Først må vi finne noen gode bilder med julestil. Vi har lastet inn bildene som et privat datasett med kaggle. Vi har også lagt ved bildene i data-mappen. Det første bildet er hentet fra: https://www.flickr.com/photos/30478819@N08/51393913903 (Marco Verch, 2021). "
   ]
  },
  {
   "cell_type": "code",
   "execution_count": 5,
   "metadata": {},
   "outputs": [
    {
     "ename": "FileNotFoundError",
     "evalue": "[Errno 2] No such file or directory: '../input/christmas-pictures/christmas_pictures/merry_christmas.jpg'",
     "output_type": "error",
     "traceback": [
      "\u001b[1;31m---------------------------------------------------------------------------\u001b[0m",
      "\u001b[1;31mFileNotFoundError\u001b[0m                         Traceback (most recent call last)",
      "\u001b[1;32m<ipython-input-5-0633a4af9884>\u001b[0m in \u001b[0;36m<module>\u001b[1;34m\u001b[0m\n\u001b[0;32m      2\u001b[0m \u001b[1;33m\u001b[0m\u001b[0m\n\u001b[0;32m      3\u001b[0m \u001b[0mpath\u001b[0m \u001b[1;33m=\u001b[0m \u001b[1;34m\"../input/christmas-pictures/christmas_pictures/merry_christmas.jpg\"\u001b[0m\u001b[1;33m\u001b[0m\u001b[1;33m\u001b[0m\u001b[0m\n\u001b[1;32m----> 4\u001b[1;33m \u001b[0mchristmas1\u001b[0m \u001b[1;33m=\u001b[0m \u001b[0mread_image\u001b[0m\u001b[1;33m(\u001b[0m\u001b[0mpath\u001b[0m\u001b[1;33m,\u001b[0m \u001b[0msize\u001b[0m\u001b[1;33m=\u001b[0m\u001b[0msize\u001b[0m\u001b[1;33m,\u001b[0m \u001b[0mdevice\u001b[0m\u001b[1;33m=\u001b[0m\u001b[0mdevice\u001b[0m\u001b[1;33m)\u001b[0m\u001b[1;33m\u001b[0m\u001b[1;33m\u001b[0m\u001b[0m\n\u001b[0m\u001b[0;32m      5\u001b[0m \u001b[0mshow_image\u001b[0m\u001b[1;33m(\u001b[0m\u001b[0mchristmas1\u001b[0m\u001b[1;33m)\u001b[0m\u001b[1;33m\u001b[0m\u001b[1;33m\u001b[0m\u001b[0m\n",
      "\u001b[1;32m~\\anaconda3\\lib\\site-packages\\pystiche\\image\\io.py\u001b[0m in \u001b[0;36mread_image\u001b[1;34m(file, device, make_batched, size, interpolation_mode)\u001b[0m\n\u001b[0;32m    133\u001b[0m         \u001b[0mdevice\u001b[0m \u001b[1;33m=\u001b[0m \u001b[0mtorch\u001b[0m\u001b[1;33m.\u001b[0m\u001b[0mdevice\u001b[0m\u001b[1;33m(\u001b[0m\u001b[0mdevice\u001b[0m\u001b[1;33m)\u001b[0m\u001b[1;33m\u001b[0m\u001b[1;33m\u001b[0m\u001b[0m\n\u001b[0;32m    134\u001b[0m \u001b[1;33m\u001b[0m\u001b[0m\n\u001b[1;32m--> 135\u001b[1;33m     \u001b[0mimage\u001b[0m \u001b[1;33m=\u001b[0m \u001b[0mImage\u001b[0m\u001b[1;33m.\u001b[0m\u001b[0mopen\u001b[0m\u001b[1;33m(\u001b[0m\u001b[0mpath\u001b[0m\u001b[1;33m.\u001b[0m\u001b[0mexpanduser\u001b[0m\u001b[1;33m(\u001b[0m\u001b[0mfile\u001b[0m\u001b[1;33m)\u001b[0m\u001b[1;33m)\u001b[0m\u001b[1;33m\u001b[0m\u001b[1;33m\u001b[0m\u001b[0m\n\u001b[0m\u001b[0;32m    136\u001b[0m \u001b[1;33m\u001b[0m\u001b[0m\n\u001b[0;32m    137\u001b[0m     \u001b[1;32mif\u001b[0m \u001b[0msize\u001b[0m \u001b[1;32mis\u001b[0m \u001b[1;32mnot\u001b[0m \u001b[1;32mNone\u001b[0m\u001b[1;33m:\u001b[0m\u001b[1;33m\u001b[0m\u001b[1;33m\u001b[0m\u001b[0m\n",
      "\u001b[1;32m~\\anaconda3\\lib\\site-packages\\PIL\\Image.py\u001b[0m in \u001b[0;36mopen\u001b[1;34m(fp, mode)\u001b[0m\n\u001b[0;32m   2876\u001b[0m \u001b[1;33m\u001b[0m\u001b[0m\n\u001b[0;32m   2877\u001b[0m     \u001b[1;32mif\u001b[0m \u001b[0mfilename\u001b[0m\u001b[1;33m:\u001b[0m\u001b[1;33m\u001b[0m\u001b[1;33m\u001b[0m\u001b[0m\n\u001b[1;32m-> 2878\u001b[1;33m         \u001b[0mfp\u001b[0m \u001b[1;33m=\u001b[0m \u001b[0mbuiltins\u001b[0m\u001b[1;33m.\u001b[0m\u001b[0mopen\u001b[0m\u001b[1;33m(\u001b[0m\u001b[0mfilename\u001b[0m\u001b[1;33m,\u001b[0m \u001b[1;34m\"rb\"\u001b[0m\u001b[1;33m)\u001b[0m\u001b[1;33m\u001b[0m\u001b[1;33m\u001b[0m\u001b[0m\n\u001b[0m\u001b[0;32m   2879\u001b[0m         \u001b[0mexclusive_fp\u001b[0m \u001b[1;33m=\u001b[0m \u001b[1;32mTrue\u001b[0m\u001b[1;33m\u001b[0m\u001b[1;33m\u001b[0m\u001b[0m\n\u001b[0;32m   2880\u001b[0m \u001b[1;33m\u001b[0m\u001b[0m\n",
      "\u001b[1;31mFileNotFoundError\u001b[0m: [Errno 2] No such file or directory: '../input/christmas-pictures/christmas_pictures/merry_christmas.jpg'"
     ]
    }
   ],
   "source": [
    "size = 500\n",
    "\n",
    "path = \"../input/christmas-pictures/christmas_pictures/merry_christmas.jpg\"\n",
    "christmas1 = read_image(path, size=size, device=device)\n",
    "show_image(christmas1)"
   ]
  },
  {
   "cell_type": "markdown",
   "metadata": {},
   "source": [
    "Det andre bildet er hentet fra: https://commons.wikimedia.org/wiki/File:Christmas_Tree_and_Presents.jpg (alhill42, 2014). "
   ]
  },
  {
   "cell_type": "code",
   "execution_count": null,
   "metadata": {
    "execution": {
     "iopub.execute_input": "2022-05-07T08:34:48.961343Z",
     "iopub.status.busy": "2022-05-07T08:34:48.961106Z",
     "iopub.status.idle": "2022-05-07T08:34:49.75302Z",
     "shell.execute_reply": "2022-05-07T08:34:49.752392Z",
     "shell.execute_reply.started": "2022-05-07T08:34:48.961312Z"
    }
   },
   "outputs": [],
   "source": [
    "path = \"../input/christmas-pictures/christmas_pictures/Christmas_Tree_and_Presents.jpg\"\n",
    "christmas2 = read_image(path, size=size, device=device)\n",
    "show_image(christmas2)"
   ]
  },
  {
   "cell_type": "markdown",
   "metadata": {},
   "source": [
    "Det tredje bildet er hentet fra: https://pixabay.com/illustrations/christmas-winter-sleigh-santa-claus-6756684/ (Darkmoon art, 2021). "
   ]
  },
  {
   "cell_type": "code",
   "execution_count": null,
   "metadata": {
    "execution": {
     "iopub.execute_input": "2022-05-07T08:34:49.7549Z",
     "iopub.status.busy": "2022-05-07T08:34:49.754178Z",
     "iopub.status.idle": "2022-05-07T08:34:50.038059Z",
     "shell.execute_reply": "2022-05-07T08:34:50.03741Z",
     "shell.execute_reply.started": "2022-05-07T08:34:49.754862Z"
    }
   },
   "outputs": [],
   "source": [
    "path = \"../input/christmas-pictures/christmas_pictures/snow_and_santa.jpg\"\n",
    "christmas3 = read_image(path, size=size, device=device)\n",
    "show_image(christmas3)"
   ]
  },
  {
   "cell_type": "markdown",
   "metadata": {},
   "source": [
    "### Bilder av Fridas varer"
   ]
  },
  {
   "cell_type": "markdown",
   "metadata": {},
   "source": [
    "Vi har kjørt denne notebooken med kaggle, og har lastet inn bildemappen som et datasett. Lenke til datasettet kan finnes her: https://www.kaggle.com/datasets/eb3b62569c5ad63905362b110520aa28e0562e71b65a6db1942ffdd06ed7bbdf?select=flowers.jpeg. Vi har imidlertid måttet modifisere bildene litt: vi har fjernet alfa-kanalen manuelt fra enkelte bilder med bilderedigeringsprogrammet GIMP slik at koden skulle kunne kjøre. Vi legger bildene vi har brukt inn i mappen data."
   ]
  },
  {
   "cell_type": "code",
   "execution_count": null,
   "metadata": {
    "execution": {
     "iopub.execute_input": "2022-05-07T08:36:23.681346Z",
     "iopub.status.busy": "2022-05-07T08:36:23.68109Z",
     "iopub.status.idle": "2022-05-07T08:36:23.691988Z",
     "shell.execute_reply": "2022-05-07T08:36:23.691241Z",
     "shell.execute_reply.started": "2022-05-07T08:36:23.681316Z"
    }
   },
   "outputs": [],
   "source": [
    "import os\n",
    "\n",
    "# Store the image paths for each image in dictionary\n",
    "image_paths = {}\n",
    "\n",
    "directory = \"../input/hon2200-frida/hon2200_frida_bilder\"\n",
    "for filename in os.listdir(directory):\n",
    "    path = os.path.join(directory, filename)\n",
    "    name = filename.split(\".\")[0]\n",
    "    image_paths[name] = path\n",
    "    \n",
    "print(image_paths.keys())"
   ]
  },
  {
   "cell_type": "code",
   "execution_count": null,
   "metadata": {
    "execution": {
     "iopub.execute_input": "2022-05-07T08:36:28.184856Z",
     "iopub.status.busy": "2022-05-07T08:36:28.184468Z",
     "iopub.status.idle": "2022-05-07T08:36:30.91107Z",
     "shell.execute_reply": "2022-05-07T08:36:30.909907Z",
     "shell.execute_reply.started": "2022-05-07T08:36:28.184823Z"
    }
   },
   "outputs": [],
   "source": [
    "size = 500\n",
    "for name in image_paths:\n",
    "    img = read_image(image_paths[name], size=size, device=device)\n",
    "    show_image(img)"
   ]
  },
  {
   "cell_type": "markdown",
   "metadata": {},
   "source": [
    "### Fridas varer med julestil"
   ]
  },
  {
   "cell_type": "code",
   "execution_count": null,
   "metadata": {
    "_kg_hide-input": true,
    "execution": {
     "iopub.execute_input": "2022-05-07T08:41:44.067419Z",
     "iopub.status.busy": "2022-05-07T08:41:44.067157Z",
     "iopub.status.idle": "2022-05-07T08:41:49.594644Z",
     "shell.execute_reply": "2022-05-07T08:41:49.59357Z",
     "shell.execute_reply.started": "2022-05-07T08:41:44.06739Z"
    }
   },
   "outputs": [],
   "source": [
    "# code for testing, to be removed\n",
    "\"\"\"\n",
    "size = 500\n",
    "style_image = christmas2\n",
    "content_image = read_image(image_paths[\"cookie\"], size=size, device=device)\n",
    "\n",
    "print(content_image.shape)\n",
    "print(style_image.shape)\n",
    "\n",
    "#content_image = content_image[:,:3,:,:]\n",
    "#translucent_mask = cont\n",
    "#show_image(content_image)\n",
    "show_image(NST(content_image, style_image))\n",
    "\"\"\""
   ]
  },
  {
   "cell_type": "code",
   "execution_count": null,
   "metadata": {
    "execution": {
     "iopub.execute_input": "2022-05-07T08:42:43.550165Z",
     "iopub.status.busy": "2022-05-07T08:42:43.549901Z",
     "iopub.status.idle": "2022-05-07T08:42:47.003959Z",
     "shell.execute_reply": "2022-05-07T08:42:47.00269Z",
     "shell.execute_reply.started": "2022-05-07T08:42:43.550137Z"
    }
   },
   "outputs": [],
   "source": [
    "size = 500\n",
    "style_image = christmas1\n",
    "for key in image_paths:\n",
    "    content_image = read_image(image_paths[key], size=size, device=device)\n",
    "    output = NST(content_image, style_image)\n",
    "    write_image(output, key + \"1.jpeg\")\n",
    "    show_image(output)"
   ]
  },
  {
   "cell_type": "markdown",
   "metadata": {},
   "source": [
    "Todo"
   ]
  },
  {
   "cell_type": "code",
   "execution_count": null,
   "metadata": {
    "execution": {
     "iopub.execute_input": "2022-05-07T08:42:50.701709Z",
     "iopub.status.busy": "2022-05-07T08:42:50.700939Z",
     "iopub.status.idle": "2022-05-07T08:42:59.53357Z",
     "shell.execute_reply": "2022-05-07T08:42:59.532245Z",
     "shell.execute_reply.started": "2022-05-07T08:42:50.701666Z"
    }
   },
   "outputs": [],
   "source": [
    "size = 500\n",
    "style_image = christmas2\n",
    "for key in image_paths:\n",
    "    content_image = read_image(image_paths[key], size=size, device=device)\n",
    "    output = NST(content_image, style_image)\n",
    "    write_image(output, key + \"2.jpeg\")\n",
    "    show_image(output)"
   ]
  },
  {
   "cell_type": "code",
   "execution_count": null,
   "metadata": {
    "execution": {
     "iopub.execute_input": "2022-05-05T06:11:33.730831Z",
     "iopub.status.busy": "2022-05-05T06:11:33.730563Z"
    }
   },
   "outputs": [],
   "source": [
    "style_image = christmas3\n",
    "for key in image_paths:\n",
    "    content_image = read_image(image_paths[key], size=size, device=device)\n",
    "    output = NST(content_image, style_image)\n",
    "    write_image(output, key + \"3.jpeg\")\n",
    "    show_image(output)"
   ]
  }
 ],
 "metadata": {
  "kernelspec": {
   "display_name": "Python 3",
   "language": "python",
   "name": "python3"
  },
  "language_info": {
   "codemirror_mode": {
    "name": "ipython",
    "version": 3
   },
   "file_extension": ".py",
   "mimetype": "text/x-python",
   "name": "python",
   "nbconvert_exporter": "python",
   "pygments_lexer": "ipython3",
   "version": "3.8.3"
  }
 },
 "nbformat": 4,
 "nbformat_minor": 4
}
